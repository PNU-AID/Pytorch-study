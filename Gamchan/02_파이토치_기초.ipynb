{
  "nbformat": 4,
  "nbformat_minor": 0,
  "metadata": {
    "colab": {
      "provenance": [],
      "toc_visible": true
    },
    "kernelspec": {
      "name": "python3",
      "display_name": "Python 3"
    },
    "language_info": {
      "name": "python"
    }
  },
  "cells": [
    {
      "cell_type": "markdown",
      "source": [
        "# 모듈 importing"
      ],
      "metadata": {
        "id": "CGqROGDg-HUP"
      }
    },
    {
      "cell_type": "code",
      "execution_count": null,
      "metadata": {
        "id": "zUVsCBJgIiDF"
      },
      "outputs": [],
      "source": [
        "import torch\n",
        "import numpy as np"
      ]
    },
    {
      "cell_type": "markdown",
      "source": [
        "# 2.2 텐서 조작하기 1"
      ],
      "metadata": {
        "id": "Ne4G08jP1vRd"
      }
    },
    {
      "cell_type": "markdown",
      "source": [
        "## 기본 feature 비교"
      ],
      "metadata": {
        "id": "xRKp38MXzfgq"
      }
    },
    {
      "cell_type": "code",
      "source": [
        "t_np = np.array([0, 1, 2, 3, 4, 5, 6])\n",
        "print(f\"t_np: {t_np}\")\n",
        "print(f\"Rank of t_np: {t_np.ndim}\")\n",
        "print(f\"Shape of t_np: {t_np.shape}\\n\")\n",
        "\n",
        "t_tensor = torch.IntTensor([0, 1, 2, 3, 4, 5, 6])\n",
        "print(f\"t_tensor: {t_tensor}\")\n",
        "print(f\"Rank of t_tensor: {t_tensor.dim()}\")\n",
        "print(f\"Shape of t_tensor: {t_tensor.shape}\")"
      ],
      "metadata": {
        "colab": {
          "base_uri": "https://localhost:8080/"
        },
        "id": "z2SJ3GKCzeGa",
        "outputId": "080ede75-d83f-4e3c-f7a1-1ac8296259df"
      },
      "execution_count": null,
      "outputs": [
        {
          "output_type": "stream",
          "name": "stdout",
          "text": [
            "t_np: [0 1 2 3 4 5 6]\n",
            "Rank of t_np: 1\n",
            "Shape of t_np: (7,)\n",
            "\n",
            "t_tensor: tensor([0, 1, 2, 3, 4, 5, 6], dtype=torch.int32)\n",
            "Rank of t_tensor: 1\n",
            "Shape of t_tensor: torch.Size([7])\n"
          ]
        }
      ]
    },
    {
      "cell_type": "code",
      "source": [
        "t_2d_np = np.array([\n",
        "    [1, 2, 3],\n",
        "    [4, 5, 6],\n",
        "    [7, 8, 9],\n",
        "    [10, 11, 12]\n",
        "    ])\n",
        "print(f\"t_np: {t_2d_np}\")\n",
        "print(f\"Rank of t_np: {t_2d_np.ndim}\")\n",
        "print(f\"Shape of t_np: {t_2d_np.shape}\\n\")\n",
        "\n",
        "t_2d_torch = torch.IntTensor([\n",
        "    [1, 2, 3],\n",
        "    [4, 5, 6],\n",
        "    [7, 8, 9],\n",
        "    [10, 11, 12]\n",
        "    ])\n",
        "print(f\"t_torch: {t_2d_torch}\")\n",
        "print(f\"Rank of t_torch: {t_2d_torch.dim()}\")\n",
        "print(f\"Shape of t_torchr: {t_2d_torch.shape}\")"
      ],
      "metadata": {
        "colab": {
          "base_uri": "https://localhost:8080/"
        },
        "id": "DoYXseNl0v8N",
        "outputId": "ecb4c8cf-0514-433d-c3aa-b8e4ca6a9be2"
      },
      "execution_count": null,
      "outputs": [
        {
          "output_type": "stream",
          "name": "stdout",
          "text": [
            "t_np: [[ 1  2  3]\n",
            " [ 4  5  6]\n",
            " [ 7  8  9]\n",
            " [10 11 12]]\n",
            "Rank of t_np: 2\n",
            "Shape of t_np: (4, 3)\n",
            "\n",
            "t_torch: tensor([[ 1,  2,  3],\n",
            "        [ 4,  5,  6],\n",
            "        [ 7,  8,  9],\n",
            "        [10, 11, 12]], dtype=torch.int32)\n",
            "Rank of t_torch: 2\n",
            "Shape of t_torchr: torch.Size([4, 3])\n"
          ]
        }
      ]
    },
    {
      "cell_type": "markdown",
      "source": [
        "## 브로드캐스팅"
      ],
      "metadata": {
        "id": "0ihIbaoo1e_3"
      }
    },
    {
      "cell_type": "code",
      "source": [
        "# Vector + scalar\n",
        "m1 = torch.FloatTensor([\n",
        "    [1, 2]\n",
        "    ])\n",
        "m2 = torch.FloatTensor([3]) # [3] -> [3, 3]\n",
        "print(m1 + m2)"
      ],
      "metadata": {
        "colab": {
          "base_uri": "https://localhost:8080/"
        },
        "id": "-4Ua_x6V1gzJ",
        "outputId": "c1a14a8e-aa15-47b2-f3a4-b2a6ee8f1914"
      },
      "execution_count": null,
      "outputs": [
        {
          "output_type": "stream",
          "name": "stdout",
          "text": [
            "tensor([[4., 5.]])\n"
          ]
        }
      ]
    },
    {
      "cell_type": "code",
      "source": [
        "# 2 x 1 Vector + 1 x 2 Vector\n",
        "m1 = torch.FloatTensor([\n",
        "    [1, 2]\n",
        "    ])\n",
        "m2 = torch.FloatTensor([\n",
        "    [3],\n",
        "    [4]\n",
        "    ])\n",
        "print(m1 + m2)"
      ],
      "metadata": {
        "colab": {
          "base_uri": "https://localhost:8080/"
        },
        "id": "B38hNBGw14iq",
        "outputId": "570606ec-52d2-456c-9cc7-4b4e929bb34c"
      },
      "execution_count": null,
      "outputs": [
        {
          "output_type": "stream",
          "name": "stdout",
          "text": [
            "tensor([[4., 5.],\n",
            "        [5., 6.]])\n"
          ]
        }
      ]
    },
    {
      "cell_type": "code",
      "source": [
        "m1 = torch.FloatTensor([\n",
        "    [1, 2],\n",
        "    [3, 4]\n",
        "    ])\n",
        "m2 = torch.FloatTensor([\n",
        "    [1],\n",
        "    [2]\n",
        "    ])\n",
        "print('Shape of Matrix 1: ', m1.shape) # 2 x 2\n",
        "print('Shape of Matrix 2: ', m2.shape) # 2 x 1\n",
        "print(m1.matmul(m2)) # 2 x 1"
      ],
      "metadata": {
        "colab": {
          "base_uri": "https://localhost:8080/"
        },
        "id": "KUyKAWgy2an1",
        "outputId": "cce81559-debf-4fa1-8e3f-971d7ccae933"
      },
      "execution_count": null,
      "outputs": [
        {
          "output_type": "stream",
          "name": "stdout",
          "text": [
            "Shape of Matrix 1:  torch.Size([2, 2])\n",
            "Shape of Matrix 2:  torch.Size([2, 1])\n",
            "tensor([[ 5.],\n",
            "        [11.]])\n"
          ]
        }
      ]
    },
    {
      "cell_type": "code",
      "source": [
        "# element-wise multiplication에서도 broadcasting\n",
        "\n",
        "m1 = torch.FloatTensor([\n",
        "    [1, 2],\n",
        "    [3, 4]\n",
        "    ])\n",
        "m2 = torch.FloatTensor([\n",
        "    [1],\n",
        "    [2]\n",
        "    ])\n",
        "print('Shape of Matrix 1: ', m1.shape) # 2 x 2\n",
        "print('Shape of Matrix 2: ', m2.shape) # 2 x 1\n",
        "print(m1 * m2) # 2 x 2\n",
        "print(m1.mul(m2))"
      ],
      "metadata": {
        "colab": {
          "base_uri": "https://localhost:8080/"
        },
        "id": "CaXWPcOX2dSr",
        "outputId": "4df6dda3-61f2-4f85-c146-7401f4d2f4ca"
      },
      "execution_count": null,
      "outputs": [
        {
          "output_type": "stream",
          "name": "stdout",
          "text": [
            "Shape of Matrix 1:  torch.Size([2, 2])\n",
            "Shape of Matrix 2:  torch.Size([2, 1])\n",
            "tensor([[1., 2.],\n",
            "        [6., 8.]])\n",
            "tensor([[1., 2.],\n",
            "        [6., 8.]])\n"
          ]
        }
      ]
    },
    {
      "cell_type": "markdown",
      "source": [
        "## 기본 연산"
      ],
      "metadata": {
        "id": "TphC9Tpp3FCp"
      }
    },
    {
      "cell_type": "code",
      "source": [
        "# 평균\n",
        "t = torch.FloatTensor([\n",
        "    [1, 2],\n",
        "    [3, 4]\n",
        "    ])\n",
        "print(f\"모든 원소의 평균: {t.mean()}\")\n",
        "print(f\"행 방향으로(열 간) 평균: {t.mean(dim=0)}\")\n",
        "print(f\"열 방향으로(행 간) 평균: {t.mean(dim=1)}\")"
      ],
      "metadata": {
        "colab": {
          "base_uri": "https://localhost:8080/"
        },
        "id": "3sRDhMie3GJN",
        "outputId": "023b5440-1dcd-4356-81f5-7e480d3c4e38"
      },
      "execution_count": null,
      "outputs": [
        {
          "output_type": "stream",
          "name": "stdout",
          "text": [
            "모든 원소의 평균: 2.5\n",
            "행 방향으로(열 간) 평균: tensor([2., 3.])\n",
            "열 방향으로(행 간) 평균: tensor([1.5000, 3.5000])\n"
          ]
        }
      ]
    },
    {
      "cell_type": "code",
      "source": [
        "# 덧셈\n",
        "print(t.sum()) # 단순히 원소 전체의 덧셈을 수행\n",
        "print(t.sum(dim=0)) # 행을 제거\n",
        "print(t.sum(dim=1)) # 열을 제거\n",
        "print(t.sum(dim=-1)) # 열을 제거"
      ],
      "metadata": {
        "colab": {
          "base_uri": "https://localhost:8080/"
        },
        "id": "keOdeA7A3l1-",
        "outputId": "d2ef7607-0084-4c0b-d48a-4ff85b34bbfe"
      },
      "execution_count": null,
      "outputs": [
        {
          "output_type": "stream",
          "name": "stdout",
          "text": [
            "tensor(10.)\n",
            "tensor([4., 6.])\n",
            "tensor([3., 7.])\n",
            "tensor([3., 7.])\n"
          ]
        }
      ]
    },
    {
      "cell_type": "code",
      "source": [
        "# 최대\n",
        "print(t.max()) # Returns one value: max\n",
        "print(t.max(dim=0), end=\"\\n\\n\") # Returns two values: max and argmax\n",
        "print('Max: ', t.max(dim=0)[0])\n",
        "print('Argmax: ', t.max(dim=0)[1], end=\"\\n\\n\")\n",
        "print(t.max(dim=1))\n",
        "print(t.max(dim=-1))"
      ],
      "metadata": {
        "colab": {
          "base_uri": "https://localhost:8080/"
        },
        "id": "neQOtkEi31Oj",
        "outputId": "b29e4c6e-b3d1-4bcf-e03b-5b9a50b8805f"
      },
      "execution_count": null,
      "outputs": [
        {
          "output_type": "stream",
          "name": "stdout",
          "text": [
            "tensor(4.)\n",
            "torch.return_types.max(\n",
            "values=tensor([3., 4.]),\n",
            "indices=tensor([1, 1]))\n",
            "\n",
            "Max:  tensor([3., 4.])\n",
            "Argmax:  tensor([1, 1])\n",
            "\n",
            "torch.return_types.max(\n",
            "values=tensor([2., 4.]),\n",
            "indices=tensor([1, 1]))\n",
            "torch.return_types.max(\n",
            "values=tensor([2., 4.]),\n",
            "indices=tensor([1, 1]))\n"
          ]
        }
      ]
    },
    {
      "cell_type": "markdown",
      "source": [
        "# 2.3 텐서 조작하기 2"
      ],
      "metadata": {
        "id": "hTUVOcLg4-u4"
      }
    },
    {
      "cell_type": "markdown",
      "source": [
        "## 뷰(View) - 원소의 수를 유지하면서 텐서의 크기 변경. 매우 중요!\n",
        "---\n",
        "넘파이 reshape와 같은 역할"
      ],
      "metadata": {
        "id": "slXwY8Qf5EQp"
      }
    },
    {
      "cell_type": "code",
      "source": [
        "t = np.array([\n",
        "    [[0, 1, 2, 3],\n",
        "     [4, 5, 6, 7],\n",
        "     [8, 9, 10, 11]],\n",
        "    [[12, 13, 14, 15],\n",
        "     [16, 17, 18, 19],\n",
        "     [20, 21, 22, 23]]\n",
        "    ])\n",
        "ft = torch.FloatTensor(t)\n",
        "ft_shape = ft.shape\n",
        "print(ft_shape)\n",
        "\n",
        "ptr = 0\n",
        "mem_address = []\n",
        "for i in range(ft_shape[0]):\n",
        "  for j in range(ft_shape[1]):\n",
        "    for k in range(ft_shape[2]):\n",
        "      if ptr != 0:\n",
        "        print(f\"[{i}][{j}][{k}] memory size: {ft[i][j][k].data_ptr() - ptr}\")\n",
        "      ptr = ft[i][j][k].data_ptr()\n",
        "      mem_address.append(ptr)"
      ],
      "metadata": {
        "colab": {
          "base_uri": "https://localhost:8080/"
        },
        "id": "3lYTlF5_5CB3",
        "outputId": "2f8da577-6f27-46f0-e295-fe31031ad257"
      },
      "execution_count": null,
      "outputs": [
        {
          "output_type": "stream",
          "name": "stdout",
          "text": [
            "torch.Size([2, 3, 4])\n",
            "[0][0][1] memory size: 4\n",
            "[0][0][2] memory size: 4\n",
            "[0][0][3] memory size: 4\n",
            "[0][1][0] memory size: 4\n",
            "[0][1][1] memory size: 4\n",
            "[0][1][2] memory size: 4\n",
            "[0][1][3] memory size: 4\n",
            "[0][2][0] memory size: 4\n",
            "[0][2][1] memory size: 4\n",
            "[0][2][2] memory size: 4\n",
            "[0][2][3] memory size: 4\n",
            "[1][0][0] memory size: 4\n",
            "[1][0][1] memory size: 4\n",
            "[1][0][2] memory size: 4\n",
            "[1][0][3] memory size: 4\n",
            "[1][1][0] memory size: 4\n",
            "[1][1][1] memory size: 4\n",
            "[1][1][2] memory size: 4\n",
            "[1][1][3] memory size: 4\n",
            "[1][2][0] memory size: 4\n",
            "[1][2][1] memory size: 4\n",
            "[1][2][2] memory size: 4\n",
            "[1][2][3] memory size: 4\n"
          ]
        }
      ]
    },
    {
      "cell_type": "markdown",
      "source": [
        "3D &rarr; 2D"
      ],
      "metadata": {
        "id": "ip8cuRxe7BUo"
      }
    },
    {
      "cell_type": "code",
      "source": [
        "reshape_ft = ft.view([-1, 3]) # ft라는 텐서를 (?, 3)의 크기로 변경\n",
        "print(reshape_ft)\n",
        "reshape_ft_shape = reshape_ft.shape\n",
        "print(reshape_ft_shape, end=\"\\n\\n\")\n",
        "\n",
        "ptr = 0\n",
        "reshape_mem_address = []\n",
        "for i in range(reshape_ft_shape[0]):\n",
        "  for j in range(reshape_ft_shape[1]):\n",
        "    if ptr != 0:\n",
        "      print(f\"[{i}][{j}] memory size: {reshape_ft[i][j].data_ptr() - ptr}\")\n",
        "    ptr = reshape_ft[i][j].data_ptr()\n",
        "    reshape_mem_address.append(ptr)"
      ],
      "metadata": {
        "colab": {
          "base_uri": "https://localhost:8080/"
        },
        "id": "Qw22OPPE6V4R",
        "outputId": "6e780cca-478d-4963-e455-851c3f44fac4"
      },
      "execution_count": null,
      "outputs": [
        {
          "output_type": "stream",
          "name": "stdout",
          "text": [
            "tensor([[ 0.,  1.,  2.],\n",
            "        [ 3.,  4.,  5.],\n",
            "        [ 6.,  7.,  8.],\n",
            "        [ 9., 10., 11.],\n",
            "        [12., 13., 14.],\n",
            "        [15., 16., 17.],\n",
            "        [18., 19., 20.],\n",
            "        [21., 22., 23.]])\n",
            "torch.Size([8, 3])\n",
            "\n",
            "[0][1] memory size: 4\n",
            "[0][2] memory size: 4\n",
            "[1][0] memory size: 4\n",
            "[1][1] memory size: 4\n",
            "[1][2] memory size: 4\n",
            "[2][0] memory size: 4\n",
            "[2][1] memory size: 4\n",
            "[2][2] memory size: 4\n",
            "[3][0] memory size: 4\n",
            "[3][1] memory size: 4\n",
            "[3][2] memory size: 4\n",
            "[4][0] memory size: 4\n",
            "[4][1] memory size: 4\n",
            "[4][2] memory size: 4\n",
            "[5][0] memory size: 4\n",
            "[5][1] memory size: 4\n",
            "[5][2] memory size: 4\n",
            "[6][0] memory size: 4\n",
            "[6][1] memory size: 4\n",
            "[6][2] memory size: 4\n",
            "[7][0] memory size: 4\n",
            "[7][1] memory size: 4\n",
            "[7][2] memory size: 4\n"
          ]
        }
      ]
    },
    {
      "cell_type": "code",
      "source": [
        "for i, add in enumerate(mem_address):\n",
        "  if reshape_mem_address[i] != add:\n",
        "    tmp = reshape_mem_address[i]\n",
        "    print(f\"index: {i}, ft address: {hex(add)}, reshape address: {hex(tmp)}\")\n",
        "  else:\n",
        "    print(f\"address: {hex(add)}\")"
      ],
      "metadata": {
        "colab": {
          "base_uri": "https://localhost:8080/"
        },
        "id": "1f91OVnbJoUS",
        "outputId": "aa4933d2-70d1-4314-d7d9-d6246459c8cd"
      },
      "execution_count": null,
      "outputs": [
        {
          "output_type": "stream",
          "name": "stdout",
          "text": [
            "address: 0x556d1543dc40\n",
            "address: 0x556d1543dc44\n",
            "address: 0x556d1543dc48\n",
            "address: 0x556d1543dc4c\n",
            "address: 0x556d1543dc50\n",
            "address: 0x556d1543dc54\n",
            "address: 0x556d1543dc58\n",
            "address: 0x556d1543dc5c\n",
            "address: 0x556d1543dc60\n",
            "address: 0x556d1543dc64\n",
            "address: 0x556d1543dc68\n",
            "address: 0x556d1543dc6c\n",
            "address: 0x556d1543dc70\n",
            "address: 0x556d1543dc74\n",
            "address: 0x556d1543dc78\n",
            "address: 0x556d1543dc7c\n",
            "address: 0x556d1543dc80\n",
            "address: 0x556d1543dc84\n",
            "address: 0x556d1543dc88\n",
            "address: 0x556d1543dc8c\n",
            "address: 0x556d1543dc90\n",
            "address: 0x556d1543dc94\n",
            "address: 0x556d1543dc98\n",
            "address: 0x556d1543dc9c\n"
          ]
        }
      ]
    },
    {
      "cell_type": "markdown",
      "source": [
        "3D &rarr; 3D"
      ],
      "metadata": {
        "id": "TOpqWvI-7Lgy"
      }
    },
    {
      "cell_type": "code",
      "source": [
        "print(ft.view([-1, 2, 3]))\n",
        "print(ft.view([-1, 2, 3]).shape)"
      ],
      "metadata": {
        "colab": {
          "base_uri": "https://localhost:8080/"
        },
        "id": "SLa0WymY7OxY",
        "outputId": "8f9e49f4-b6c3-4d71-ea22-9bec81134002"
      },
      "execution_count": null,
      "outputs": [
        {
          "output_type": "stream",
          "name": "stdout",
          "text": [
            "tensor([[[ 0.,  1.,  2.],\n",
            "         [ 3.,  4.,  5.]],\n",
            "\n",
            "        [[ 6.,  7.,  8.],\n",
            "         [ 9., 10., 11.]],\n",
            "\n",
            "        [[12., 13., 14.],\n",
            "         [15., 16., 17.]],\n",
            "\n",
            "        [[18., 19., 20.],\n",
            "         [21., 22., 23.]]])\n",
            "torch.Size([4, 2, 3])\n"
          ]
        }
      ]
    },
    {
      "cell_type": "markdown",
      "source": [
        "## 스퀴즈 & 언스퀴즈\n",
        "---\n",
        "* 스퀴즈(Squeeze) - 1인 차원을 제거\n",
        "* 언스퀴즈(Unsqueeze) - 특정 위치에 1인 차원을 추가"
      ],
      "metadata": {
        "id": "F1qSw8jy7gEf"
      }
    },
    {
      "cell_type": "code",
      "source": [
        "ft = torch.FloatTensor([[0], [1], [2]])\n",
        "print(ft)\n",
        "print(ft.shape, end=\"\\n\\n\")\n",
        "print(ft.squeeze())\n",
        "print(ft.squeeze().shape)"
      ],
      "metadata": {
        "colab": {
          "base_uri": "https://localhost:8080/"
        },
        "id": "3060bnZn7uy1",
        "outputId": "4fd4b0ed-0758-4972-fd1c-5c1b50d89a1e"
      },
      "execution_count": null,
      "outputs": [
        {
          "output_type": "stream",
          "name": "stdout",
          "text": [
            "tensor([[0.],\n",
            "        [1.],\n",
            "        [2.]])\n",
            "torch.Size([3, 1])\n",
            "\n",
            "tensor([0., 1., 2.])\n",
            "torch.Size([3])\n"
          ]
        }
      ]
    },
    {
      "cell_type": "code",
      "source": [
        "ft = torch.Tensor([0, 1, 2])\n",
        "print(ft.shape, end=\"\\n\\n\")\n",
        "print(ft.unsqueeze(0)) # 인덱스가 0부터 시작하므로 0은 첫번째 차원을 의미한다.\n",
        "print(ft.unsqueeze(0).shape, end=\"\\n\\n\")\n",
        "\n",
        "ft = torch.Tensor([0, 1, 2])\n",
        "print(ft.view(1, -1))\n",
        "print(ft.view(1, -1).shape)"
      ],
      "metadata": {
        "colab": {
          "base_uri": "https://localhost:8080/"
        },
        "id": "hyr94QmT78Ia",
        "outputId": "a038af1e-bca0-4bc8-9965-a4eb0d3010e8"
      },
      "execution_count": null,
      "outputs": [
        {
          "output_type": "stream",
          "name": "stdout",
          "text": [
            "torch.Size([3])\n",
            "\n",
            "tensor([[0., 1., 2.]])\n",
            "torch.Size([1, 3])\n",
            "\n",
            "tensor([[0., 1., 2.]])\n",
            "torch.Size([1, 3])\n"
          ]
        }
      ]
    },
    {
      "cell_type": "code",
      "source": [
        "ft = torch.Tensor([0, 1, 2])\n",
        "print(ft.unsqueeze(1))\n",
        "print(ft.unsqueeze(1).shape)"
      ],
      "metadata": {
        "colab": {
          "base_uri": "https://localhost:8080/"
        },
        "id": "fVPB7UPg8ZoN",
        "outputId": "c4299fb5-c2e6-4767-c344-e0a044d98827"
      },
      "execution_count": null,
      "outputs": [
        {
          "output_type": "stream",
          "name": "stdout",
          "text": [
            "tensor([[0.],\n",
            "        [1.],\n",
            "        [2.]])\n",
            "torch.Size([3, 1])\n"
          ]
        }
      ]
    },
    {
      "cell_type": "code",
      "source": [
        "ft = torch.Tensor([0, 1, 2])\n",
        "print(ft.unsqueeze(-1))\n",
        "print(ft.unsqueeze(-1).shape)"
      ],
      "metadata": {
        "colab": {
          "base_uri": "https://localhost:8080/"
        },
        "id": "Sj_F4T5v8iQv",
        "outputId": "38cd08d0-ebd5-4547-f349-7deaea05c742"
      },
      "execution_count": null,
      "outputs": [
        {
          "output_type": "stream",
          "name": "stdout",
          "text": [
            "tensor([[0.],\n",
            "        [1.],\n",
            "        [2.]])\n",
            "torch.Size([3, 1])\n"
          ]
        }
      ]
    },
    {
      "cell_type": "markdown",
      "source": [
        "## 타입 캐스팅"
      ],
      "metadata": {
        "id": "XwYKiyRX8qmg"
      }
    },
    {
      "cell_type": "code",
      "source": [
        "lt = torch.LongTensor([1, 2, 3, 4])\n",
        "print(lt)\n",
        "print(lt.float())"
      ],
      "metadata": {
        "colab": {
          "base_uri": "https://localhost:8080/"
        },
        "id": "65OaaP7o8tjI",
        "outputId": "b9ea1902-0844-4f04-e2dc-244b234b1a40"
      },
      "execution_count": null,
      "outputs": [
        {
          "output_type": "stream",
          "name": "stdout",
          "text": [
            "tensor([1, 2, 3, 4])\n",
            "tensor([1., 2., 3., 4.])\n"
          ]
        }
      ]
    },
    {
      "cell_type": "code",
      "source": [
        "bt = torch.ByteTensor([True, False, False, True])\n",
        "print(bt)\n",
        "print(bt.long())\n",
        "print(bt.float())"
      ],
      "metadata": {
        "colab": {
          "base_uri": "https://localhost:8080/"
        },
        "id": "SQkqxF_u82VK",
        "outputId": "219ed4db-84ba-4222-cca4-0a65601e4646"
      },
      "execution_count": null,
      "outputs": [
        {
          "output_type": "stream",
          "name": "stdout",
          "text": [
            "tensor([1, 0, 0, 1], dtype=torch.uint8)\n",
            "tensor([1, 0, 0, 1])\n",
            "tensor([1., 0., 0., 1.])\n"
          ]
        }
      ]
    },
    {
      "cell_type": "markdown",
      "source": [
        "## concatenate & stack\n",
        "---\n",
        "* concatenate: 일정 방향으로 텐서를 연장\n",
        "* stack: 차원 증가하는 방향으로 텐서를 연장"
      ],
      "metadata": {
        "id": "1Zes7lz_89XA"
      }
    },
    {
      "cell_type": "code",
      "source": [
        "x = torch.FloatTensor([\n",
        "    [1, 2],\n",
        "    [3, 4]\n",
        "    ])\n",
        "y = torch.FloatTensor([\n",
        "    [5, 6],\n",
        "    [7, 8]\n",
        "    ])\n",
        "print(torch.cat([x, y], dim=0))\n",
        "print(torch.cat([x, y], dim=1))"
      ],
      "metadata": {
        "colab": {
          "base_uri": "https://localhost:8080/"
        },
        "id": "vX3RBzcz8_cE",
        "outputId": "138fd35c-ed1b-4ddc-a921-7ab85357dd91"
      },
      "execution_count": null,
      "outputs": [
        {
          "output_type": "stream",
          "name": "stdout",
          "text": [
            "tensor([[1., 2.],\n",
            "        [3., 4.],\n",
            "        [5., 6.],\n",
            "        [7., 8.]])\n",
            "tensor([[1., 2., 5., 6.],\n",
            "        [3., 4., 7., 8.]])\n"
          ]
        }
      ]
    },
    {
      "cell_type": "code",
      "source": [
        "print(torch.stack([x, y]))\n",
        "print(torch.cat([x.unsqueeze(0), y.unsqueeze(0)], dim=0)) # 전부 1x2 Tensor로 만들고 column 방향으로 확장\n",
        "print(torch.stack([x, y], dim=1))"
      ],
      "metadata": {
        "colab": {
          "base_uri": "https://localhost:8080/"
        },
        "id": "iHVjr4gg9k2J",
        "outputId": "08e68fbc-10a2-4012-dcd1-916bebc66f6f"
      },
      "execution_count": null,
      "outputs": [
        {
          "output_type": "stream",
          "name": "stdout",
          "text": [
            "tensor([[[1., 2.],\n",
            "         [3., 4.]],\n",
            "\n",
            "        [[5., 6.],\n",
            "         [7., 8.]]])\n",
            "tensor([[[1., 2.],\n",
            "         [3., 4.]],\n",
            "\n",
            "        [[5., 6.],\n",
            "         [7., 8.]]])\n",
            "tensor([[[1., 2.],\n",
            "         [5., 6.]],\n",
            "\n",
            "        [[3., 4.],\n",
            "         [7., 8.]]])\n"
          ]
        }
      ]
    },
    {
      "cell_type": "markdown",
      "source": [
        "## ones_like & zeros_like"
      ],
      "metadata": {
        "id": "FkHAvsrc-AC-"
      }
    },
    {
      "cell_type": "code",
      "source": [
        "x = torch.FloatTensor([[0, 1, 2], [2, 1, 0]])\n",
        "print(x)\n",
        "print(torch.ones_like(x)) # 입력 텐서와 크기를 동일하게 하면서 값을 1로 채우기\n",
        "print(torch.zeros_like(x)) # 입력 텐서와 크기를 동일하게 하면서 값을 0으로 채우기"
      ],
      "metadata": {
        "colab": {
          "base_uri": "https://localhost:8080/"
        },
        "id": "5_QDraCQ-EYX",
        "outputId": "0c793187-4815-4722-b4e1-83e9e3d52001"
      },
      "execution_count": null,
      "outputs": [
        {
          "output_type": "stream",
          "name": "stdout",
          "text": [
            "tensor([[0., 1., 2.],\n",
            "        [2., 1., 0.]])\n",
            "tensor([[1., 1., 1.],\n",
            "        [1., 1., 1.]])\n",
            "tensor([[0., 0., 0.],\n",
            "        [0., 0., 0.]])\n"
          ]
        }
      ]
    },
    {
      "cell_type": "markdown",
      "source": [
        "## 덮어쓰기 연산\n",
        "+=, -=, *=, /="
      ],
      "metadata": {
        "id": "_jAUU-HI-UBf"
      }
    },
    {
      "cell_type": "code",
      "source": [
        "x = torch.FloatTensor([[1, 2], [3, 4]])\n",
        "print(x.mul(2.)) # 곱하기 2를 수행한 결과를 출력\n",
        "print(x, end=\"\\n\\n\") # 기존의 값 출력\n",
        "print(x.mul_(2.))  # 곱하기 2를 수행한 결과를 변수 x에 값을 저장하면서 결과를 출력\n",
        "print(x) # 기존의 값 출력"
      ],
      "metadata": {
        "colab": {
          "base_uri": "https://localhost:8080/"
        },
        "id": "tDK5GE_3-Z2t",
        "outputId": "459b8c39-35ec-44b4-cdb5-57441d1a7468"
      },
      "execution_count": null,
      "outputs": [
        {
          "output_type": "stream",
          "name": "stdout",
          "text": [
            "tensor([[2., 4.],\n",
            "        [6., 8.]])\n",
            "tensor([[1., 2.],\n",
            "        [3., 4.]])\n",
            "\n",
            "tensor([[2., 4.],\n",
            "        [6., 8.]])\n",
            "tensor([[2., 4.],\n",
            "        [6., 8.]])\n"
          ]
        }
      ]
    },
    {
      "cell_type": "markdown",
      "source": [
        "# 2.4 파이썬 클래스\n",
        "---\n",
        "## 클래스로 디자인 하는 이유\n",
        "1. 캡슐화\n",
        "2. 연산자 오버로딩\n",
        "3. 동작에 집중\n",
        "4. 추상화에 유리"
      ],
      "metadata": {
        "id": "YQybPvOI5GpQ"
      }
    }
  ]
}